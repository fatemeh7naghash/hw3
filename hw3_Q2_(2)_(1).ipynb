{
  "nbformat": 4,
  "nbformat_minor": 0,
  "metadata": {
    "colab": {
      "provenance": []
    },
    "kernelspec": {
      "name": "python3",
      "display_name": "Python 3"
    },
    "language_info": {
      "name": "python"
    },
    "gpuClass": "standard",
    "accelerator": "GPU"
  },
  "cells": [
    {
      "cell_type": "code",
      "source": [
        "import tensorflow as tf\n",
        "import tensorflow.keras as K\n",
        "from tensorflow.keras.models import Sequential\n",
        "from tensorflow.keras.layers import Conv2D,MaxPool2D,Dense,Flatten,Dropout,Input, AveragePooling2D, Activation,Conv2D, MaxPooling2D, BatchNormalization,Concatenate\n",
        "from tensorflow.keras.callbacks import EarlyStopping, TensorBoard\n",
        "from tensorflow.keras import regularizers, optimizers\n",
        "from tensorflow.keras.preprocessing.image import ImageDataGenerator\n",
        "from tensorflow.keras.utils import to_categorical\n"
      ],
      "metadata": {
        "id": "QKzGUPLGm3vr"
      },
      "execution_count": null,
      "outputs": []
    },
    {
      "cell_type": "code",
      "execution_count": null,
      "metadata": {
        "colab": {
          "base_uri": "https://localhost:8080/",
          "height": 35
        },
        "id": "tn5G0LdimYFR",
        "outputId": "9ef649bc-cae6-4964-cbe6-f380c3cece46"
      },
      "outputs": [
        {
          "output_type": "execute_result",
          "data": {
            "text/plain": [
              "'/device:GPU:0'"
            ],
            "application/vnd.google.colaboratory.intrinsic+json": {
              "type": "string"
            }
          },
          "metadata": {},
          "execution_count": 3
        }
      ],
      "source": [
        "\n",
        "tf.test.gpu_device_name()"
      ]
    },
    {
      "cell_type": "code",
      "source": [
        "#data\n",
        "from tensorflow.keras.datasets import cifar10\n",
        "\n",
        "(x_train, y_train), (x_test, y_test)=cifar10.load_data()\n",
        "y_train_cat=to_categorical(y_train,10)\n",
        "y_test_cat=to_categorical(y_test,10)"
      ],
      "metadata": {
        "colab": {
          "base_uri": "https://localhost:8080/"
        },
        "id": "rtT-abR6mndY",
        "outputId": "4d3981b9-e528-45ab-b5fe-36e5691a9c15"
      },
      "execution_count": null,
      "outputs": [
        {
          "output_type": "stream",
          "name": "stdout",
          "text": [
            "Downloading data from https://www.cs.toronto.edu/~kriz/cifar-10-python.tar.gz\n",
            "170498071/170498071 [==============================] - 13s 0us/step\n"
          ]
        }
      ]
    },
    {
      "cell_type": "code",
      "source": [
        "\n",
        "resnet50 = K.applications.ResNet50(weights='imagenet',include_top=False,input_tensor=K.Input(shape=(224, 224, 3)))"
      ],
      "metadata": {
        "id": "LpA2G4Pp31Nt",
        "colab": {
          "base_uri": "https://localhost:8080/"
        },
        "outputId": "bf00dc78-8aa3-43a7-ef23-853d3229136a"
      },
      "execution_count": null,
      "outputs": [
        {
          "output_type": "stream",
          "name": "stdout",
          "text": [
            "Downloading data from https://storage.googleapis.com/tensorflow/keras-applications/resnet/resnet50_weights_tf_dim_ordering_tf_kernels_notop.h5\n",
            "94765736/94765736 [==============================] - 5s 0us/step\n"
          ]
        }
      ]
    },
    {
      "cell_type": "code",
      "source": [
        "for layer in resnet50.layers[:]:\n",
        "   layer.trainable = False"
      ],
      "metadata": {
        "id": "56xOMRhfnQGo"
      },
      "execution_count": null,
      "outputs": []
    },
    {
      "cell_type": "code",
      "source": [
        "for i, layer in enumerate(resnet50.layers):\n",
        "  print(i,layer.name,'-',layer.trainable)"
      ],
      "metadata": {
        "colab": {
          "base_uri": "https://localhost:8080/"
        },
        "id": "g6cG5AiJnSVD",
        "outputId": "926ce9e4-5ed9-48d6-c262-fd241b733fb7"
      },
      "execution_count": null,
      "outputs": [
        {
          "output_type": "stream",
          "name": "stdout",
          "text": [
            "0 input_1 - False\n",
            "1 conv1_pad - False\n",
            "2 conv1_conv - False\n",
            "3 conv1_bn - False\n",
            "4 conv1_relu - False\n",
            "5 pool1_pad - False\n",
            "6 pool1_pool - False\n",
            "7 conv2_block1_1_conv - False\n",
            "8 conv2_block1_1_bn - False\n",
            "9 conv2_block1_1_relu - False\n",
            "10 conv2_block1_2_conv - False\n",
            "11 conv2_block1_2_bn - False\n",
            "12 conv2_block1_2_relu - False\n",
            "13 conv2_block1_0_conv - False\n",
            "14 conv2_block1_3_conv - False\n",
            "15 conv2_block1_0_bn - False\n",
            "16 conv2_block1_3_bn - False\n",
            "17 conv2_block1_add - False\n",
            "18 conv2_block1_out - False\n",
            "19 conv2_block2_1_conv - False\n",
            "20 conv2_block2_1_bn - False\n",
            "21 conv2_block2_1_relu - False\n",
            "22 conv2_block2_2_conv - False\n",
            "23 conv2_block2_2_bn - False\n",
            "24 conv2_block2_2_relu - False\n",
            "25 conv2_block2_3_conv - False\n",
            "26 conv2_block2_3_bn - False\n",
            "27 conv2_block2_add - False\n",
            "28 conv2_block2_out - False\n",
            "29 conv2_block3_1_conv - False\n",
            "30 conv2_block3_1_bn - False\n",
            "31 conv2_block3_1_relu - False\n",
            "32 conv2_block3_2_conv - False\n",
            "33 conv2_block3_2_bn - False\n",
            "34 conv2_block3_2_relu - False\n",
            "35 conv2_block3_3_conv - False\n",
            "36 conv2_block3_3_bn - False\n",
            "37 conv2_block3_add - False\n",
            "38 conv2_block3_out - False\n",
            "39 conv3_block1_1_conv - False\n",
            "40 conv3_block1_1_bn - False\n",
            "41 conv3_block1_1_relu - False\n",
            "42 conv3_block1_2_conv - False\n",
            "43 conv3_block1_2_bn - False\n",
            "44 conv3_block1_2_relu - False\n",
            "45 conv3_block1_0_conv - False\n",
            "46 conv3_block1_3_conv - False\n",
            "47 conv3_block1_0_bn - False\n",
            "48 conv3_block1_3_bn - False\n",
            "49 conv3_block1_add - False\n",
            "50 conv3_block1_out - False\n",
            "51 conv3_block2_1_conv - False\n",
            "52 conv3_block2_1_bn - False\n",
            "53 conv3_block2_1_relu - False\n",
            "54 conv3_block2_2_conv - False\n",
            "55 conv3_block2_2_bn - False\n",
            "56 conv3_block2_2_relu - False\n",
            "57 conv3_block2_3_conv - False\n",
            "58 conv3_block2_3_bn - False\n",
            "59 conv3_block2_add - False\n",
            "60 conv3_block2_out - False\n",
            "61 conv3_block3_1_conv - False\n",
            "62 conv3_block3_1_bn - False\n",
            "63 conv3_block3_1_relu - False\n",
            "64 conv3_block3_2_conv - False\n",
            "65 conv3_block3_2_bn - False\n",
            "66 conv3_block3_2_relu - False\n",
            "67 conv3_block3_3_conv - False\n",
            "68 conv3_block3_3_bn - False\n",
            "69 conv3_block3_add - False\n",
            "70 conv3_block3_out - False\n",
            "71 conv3_block4_1_conv - False\n",
            "72 conv3_block4_1_bn - False\n",
            "73 conv3_block4_1_relu - False\n",
            "74 conv3_block4_2_conv - False\n",
            "75 conv3_block4_2_bn - False\n",
            "76 conv3_block4_2_relu - False\n",
            "77 conv3_block4_3_conv - False\n",
            "78 conv3_block4_3_bn - False\n",
            "79 conv3_block4_add - False\n",
            "80 conv3_block4_out - False\n",
            "81 conv4_block1_1_conv - False\n",
            "82 conv4_block1_1_bn - False\n",
            "83 conv4_block1_1_relu - False\n",
            "84 conv4_block1_2_conv - False\n",
            "85 conv4_block1_2_bn - False\n",
            "86 conv4_block1_2_relu - False\n",
            "87 conv4_block1_0_conv - False\n",
            "88 conv4_block1_3_conv - False\n",
            "89 conv4_block1_0_bn - False\n",
            "90 conv4_block1_3_bn - False\n",
            "91 conv4_block1_add - False\n",
            "92 conv4_block1_out - False\n",
            "93 conv4_block2_1_conv - False\n",
            "94 conv4_block2_1_bn - False\n",
            "95 conv4_block2_1_relu - False\n",
            "96 conv4_block2_2_conv - False\n",
            "97 conv4_block2_2_bn - False\n",
            "98 conv4_block2_2_relu - False\n",
            "99 conv4_block2_3_conv - False\n",
            "100 conv4_block2_3_bn - False\n",
            "101 conv4_block2_add - False\n",
            "102 conv4_block2_out - False\n",
            "103 conv4_block3_1_conv - False\n",
            "104 conv4_block3_1_bn - False\n",
            "105 conv4_block3_1_relu - False\n",
            "106 conv4_block3_2_conv - False\n",
            "107 conv4_block3_2_bn - False\n",
            "108 conv4_block3_2_relu - False\n",
            "109 conv4_block3_3_conv - False\n",
            "110 conv4_block3_3_bn - False\n",
            "111 conv4_block3_add - False\n",
            "112 conv4_block3_out - False\n",
            "113 conv4_block4_1_conv - False\n",
            "114 conv4_block4_1_bn - False\n",
            "115 conv4_block4_1_relu - False\n",
            "116 conv4_block4_2_conv - False\n",
            "117 conv4_block4_2_bn - False\n",
            "118 conv4_block4_2_relu - False\n",
            "119 conv4_block4_3_conv - False\n",
            "120 conv4_block4_3_bn - False\n",
            "121 conv4_block4_add - False\n",
            "122 conv4_block4_out - False\n",
            "123 conv4_block5_1_conv - False\n",
            "124 conv4_block5_1_bn - False\n",
            "125 conv4_block5_1_relu - False\n",
            "126 conv4_block5_2_conv - False\n",
            "127 conv4_block5_2_bn - False\n",
            "128 conv4_block5_2_relu - False\n",
            "129 conv4_block5_3_conv - False\n",
            "130 conv4_block5_3_bn - False\n",
            "131 conv4_block5_add - False\n",
            "132 conv4_block5_out - False\n",
            "133 conv4_block6_1_conv - False\n",
            "134 conv4_block6_1_bn - False\n",
            "135 conv4_block6_1_relu - False\n",
            "136 conv4_block6_2_conv - False\n",
            "137 conv4_block6_2_bn - False\n",
            "138 conv4_block6_2_relu - False\n",
            "139 conv4_block6_3_conv - False\n",
            "140 conv4_block6_3_bn - False\n",
            "141 conv4_block6_add - False\n",
            "142 conv4_block6_out - False\n",
            "143 conv5_block1_1_conv - False\n",
            "144 conv5_block1_1_bn - False\n",
            "145 conv5_block1_1_relu - False\n",
            "146 conv5_block1_2_conv - False\n",
            "147 conv5_block1_2_bn - False\n",
            "148 conv5_block1_2_relu - False\n",
            "149 conv5_block1_0_conv - False\n",
            "150 conv5_block1_3_conv - False\n",
            "151 conv5_block1_0_bn - False\n",
            "152 conv5_block1_3_bn - False\n",
            "153 conv5_block1_add - False\n",
            "154 conv5_block1_out - False\n",
            "155 conv5_block2_1_conv - False\n",
            "156 conv5_block2_1_bn - False\n",
            "157 conv5_block2_1_relu - False\n",
            "158 conv5_block2_2_conv - False\n",
            "159 conv5_block2_2_bn - False\n",
            "160 conv5_block2_2_relu - False\n",
            "161 conv5_block2_3_conv - False\n",
            "162 conv5_block2_3_bn - False\n",
            "163 conv5_block2_add - False\n",
            "164 conv5_block2_out - False\n",
            "165 conv5_block3_1_conv - False\n",
            "166 conv5_block3_1_bn - False\n",
            "167 conv5_block3_1_relu - False\n",
            "168 conv5_block3_2_conv - False\n",
            "169 conv5_block3_2_bn - False\n",
            "170 conv5_block3_2_relu - False\n",
            "171 conv5_block3_3_conv - False\n",
            "172 conv5_block3_3_bn - False\n",
            "173 conv5_block3_add - False\n",
            "174 conv5_block3_out - False\n"
          ]
        }
      ]
    },
    {
      "cell_type": "code",
      "source": [
        "#resnet50,teacher\n",
        "model = K.models.Sequential()\n",
        "model.add(K.layers.Lambda(lambda x: tf.image.resize(x,(224, 224))))\n",
        "model.add(resnet50)\n",
        "model.add(Flatten())\n",
        "model.add(K.layers.Dense(10, activation='softmax'))"
      ],
      "metadata": {
        "id": "fW-YwBhrnV_3"
      },
      "execution_count": null,
      "outputs": []
    },
    {
      "cell_type": "code",
      "source": [
        "model.compile(loss='categorical_crossentropy',optimizer=tf.keras.optimizers.Adam(lr=2e-5),metrics=['accuracy'])\n",
        "history1=model.fit(x_train,y_train_cat, batch_size=128,epochs=3,validation_data=(x_test,y_test_cat))\n",
        "evaluation = model.evaluate(x_test, y_test_cat)\n",
        "print('Test Accuracy: {}'.format(evaluation[1]))\n",
        "\n",
        "model.save(\"resnet50-cifar10.h5\")\n",
        "model.summary()"
      ],
      "metadata": {
        "colab": {
          "base_uri": "https://localhost:8080/"
        },
        "id": "FwRSyaODnYk_",
        "outputId": "e652cfdc-4e5d-4b7d-9f4d-22804cd0a0f7"
      },
      "execution_count": null,
      "outputs": [
        {
          "metadata": {
            "tags": null
          },
          "name": "stderr",
          "output_type": "stream",
          "text": [
            "/usr/local/lib/python3.8/dist-packages/keras/optimizers/optimizer_v2/adam.py:110: UserWarning: The `lr` argument is deprecated, use `learning_rate` instead.\n",
            "  super(Adam, self).__init__(name, **kwargs)\n"
          ]
        },
        {
          "output_type": "stream",
          "name": "stdout",
          "text": [
            "Epoch 1/3\n",
            "391/391 [==============================] - 209s 528ms/step - loss: 0.6455 - accuracy: 0.7909 - val_loss: 0.5606 - val_accuracy: 0.8198\n",
            "Epoch 2/3\n",
            "391/391 [==============================] - 205s 524ms/step - loss: 0.3537 - accuracy: 0.8824 - val_loss: 0.4957 - val_accuracy: 0.8383\n",
            "Epoch 3/3\n",
            "391/391 [==============================] - 205s 525ms/step - loss: 0.2299 - accuracy: 0.9264 - val_loss: 0.4711 - val_accuracy: 0.8500\n",
            "313/313 [==============================] - 35s 108ms/step - loss: 0.4711 - accuracy: 0.8500\n",
            "Test Accuracy: 0.8500000238418579\n",
            "Model: \"sequential\"\n",
            "_________________________________________________________________\n",
            " Layer (type)                Output Shape              Param #   \n",
            "=================================================================\n",
            " lambda (Lambda)             (None, 224, 224, 3)       0         \n",
            "                                                                 \n",
            " resnet50 (Functional)       (None, 7, 7, 2048)        23587712  \n",
            "                                                                 \n",
            " flatten (Flatten)           (None, 100352)            0         \n",
            "                                                                 \n",
            " dense (Dense)               (None, 10)                1003530   \n",
            "                                                                 \n",
            "=================================================================\n",
            "Total params: 24,591,242\n",
            "Trainable params: 1,003,530\n",
            "Non-trainable params: 23,587,712\n",
            "_________________________________________________________________\n"
          ]
        }
      ]
    },
    {
      "cell_type": "code",
      "source": [
        "##finedtuned\n",
        "#https://towardsdatascience.com/deep-learning-using-transfer-learning-python-code-for-resnet50-8acdfb3a2d38\n",
        "for layer in resnet50.layers[:]:\n",
        "   layer.trainable = True"
      ],
      "metadata": {
        "id": "-Ewa9gxMnh2-"
      },
      "execution_count": null,
      "outputs": []
    },
    {
      "cell_type": "code",
      "source": [
        "for i, layer in enumerate(resnet50.layers):\n",
        "  print(i,layer.name,'-',layer.trainable)"
      ],
      "metadata": {
        "colab": {
          "base_uri": "https://localhost:8080/"
        },
        "id": "GvUYM5SAnkQ7",
        "outputId": "13169735-fb85-4f90-9f29-88748254420b"
      },
      "execution_count": null,
      "outputs": [
        {
          "output_type": "stream",
          "name": "stdout",
          "text": [
            "0 input_1 - True\n",
            "1 conv1_pad - True\n",
            "2 conv1_conv - True\n",
            "3 conv1_bn - True\n",
            "4 conv1_relu - True\n",
            "5 pool1_pad - True\n",
            "6 pool1_pool - True\n",
            "7 conv2_block1_1_conv - True\n",
            "8 conv2_block1_1_bn - True\n",
            "9 conv2_block1_1_relu - True\n",
            "10 conv2_block1_2_conv - True\n",
            "11 conv2_block1_2_bn - True\n",
            "12 conv2_block1_2_relu - True\n",
            "13 conv2_block1_0_conv - True\n",
            "14 conv2_block1_3_conv - True\n",
            "15 conv2_block1_0_bn - True\n",
            "16 conv2_block1_3_bn - True\n",
            "17 conv2_block1_add - True\n",
            "18 conv2_block1_out - True\n",
            "19 conv2_block2_1_conv - True\n",
            "20 conv2_block2_1_bn - True\n",
            "21 conv2_block2_1_relu - True\n",
            "22 conv2_block2_2_conv - True\n",
            "23 conv2_block2_2_bn - True\n",
            "24 conv2_block2_2_relu - True\n",
            "25 conv2_block2_3_conv - True\n",
            "26 conv2_block2_3_bn - True\n",
            "27 conv2_block2_add - True\n",
            "28 conv2_block2_out - True\n",
            "29 conv2_block3_1_conv - True\n",
            "30 conv2_block3_1_bn - True\n",
            "31 conv2_block3_1_relu - True\n",
            "32 conv2_block3_2_conv - True\n",
            "33 conv2_block3_2_bn - True\n",
            "34 conv2_block3_2_relu - True\n",
            "35 conv2_block3_3_conv - True\n",
            "36 conv2_block3_3_bn - True\n",
            "37 conv2_block3_add - True\n",
            "38 conv2_block3_out - True\n",
            "39 conv3_block1_1_conv - True\n",
            "40 conv3_block1_1_bn - True\n",
            "41 conv3_block1_1_relu - True\n",
            "42 conv3_block1_2_conv - True\n",
            "43 conv3_block1_2_bn - True\n",
            "44 conv3_block1_2_relu - True\n",
            "45 conv3_block1_0_conv - True\n",
            "46 conv3_block1_3_conv - True\n",
            "47 conv3_block1_0_bn - True\n",
            "48 conv3_block1_3_bn - True\n",
            "49 conv3_block1_add - True\n",
            "50 conv3_block1_out - True\n",
            "51 conv3_block2_1_conv - True\n",
            "52 conv3_block2_1_bn - True\n",
            "53 conv3_block2_1_relu - True\n",
            "54 conv3_block2_2_conv - True\n",
            "55 conv3_block2_2_bn - True\n",
            "56 conv3_block2_2_relu - True\n",
            "57 conv3_block2_3_conv - True\n",
            "58 conv3_block2_3_bn - True\n",
            "59 conv3_block2_add - True\n",
            "60 conv3_block2_out - True\n",
            "61 conv3_block3_1_conv - True\n",
            "62 conv3_block3_1_bn - True\n",
            "63 conv3_block3_1_relu - True\n",
            "64 conv3_block3_2_conv - True\n",
            "65 conv3_block3_2_bn - True\n",
            "66 conv3_block3_2_relu - True\n",
            "67 conv3_block3_3_conv - True\n",
            "68 conv3_block3_3_bn - True\n",
            "69 conv3_block3_add - True\n",
            "70 conv3_block3_out - True\n",
            "71 conv3_block4_1_conv - True\n",
            "72 conv3_block4_1_bn - True\n",
            "73 conv3_block4_1_relu - True\n",
            "74 conv3_block4_2_conv - True\n",
            "75 conv3_block4_2_bn - True\n",
            "76 conv3_block4_2_relu - True\n",
            "77 conv3_block4_3_conv - True\n",
            "78 conv3_block4_3_bn - True\n",
            "79 conv3_block4_add - True\n",
            "80 conv3_block4_out - True\n",
            "81 conv4_block1_1_conv - True\n",
            "82 conv4_block1_1_bn - True\n",
            "83 conv4_block1_1_relu - True\n",
            "84 conv4_block1_2_conv - True\n",
            "85 conv4_block1_2_bn - True\n",
            "86 conv4_block1_2_relu - True\n",
            "87 conv4_block1_0_conv - True\n",
            "88 conv4_block1_3_conv - True\n",
            "89 conv4_block1_0_bn - True\n",
            "90 conv4_block1_3_bn - True\n",
            "91 conv4_block1_add - True\n",
            "92 conv4_block1_out - True\n",
            "93 conv4_block2_1_conv - True\n",
            "94 conv4_block2_1_bn - True\n",
            "95 conv4_block2_1_relu - True\n",
            "96 conv4_block2_2_conv - True\n",
            "97 conv4_block2_2_bn - True\n",
            "98 conv4_block2_2_relu - True\n",
            "99 conv4_block2_3_conv - True\n",
            "100 conv4_block2_3_bn - True\n",
            "101 conv4_block2_add - True\n",
            "102 conv4_block2_out - True\n",
            "103 conv4_block3_1_conv - True\n",
            "104 conv4_block3_1_bn - True\n",
            "105 conv4_block3_1_relu - True\n",
            "106 conv4_block3_2_conv - True\n",
            "107 conv4_block3_2_bn - True\n",
            "108 conv4_block3_2_relu - True\n",
            "109 conv4_block3_3_conv - True\n",
            "110 conv4_block3_3_bn - True\n",
            "111 conv4_block3_add - True\n",
            "112 conv4_block3_out - True\n",
            "113 conv4_block4_1_conv - True\n",
            "114 conv4_block4_1_bn - True\n",
            "115 conv4_block4_1_relu - True\n",
            "116 conv4_block4_2_conv - True\n",
            "117 conv4_block4_2_bn - True\n",
            "118 conv4_block4_2_relu - True\n",
            "119 conv4_block4_3_conv - True\n",
            "120 conv4_block4_3_bn - True\n",
            "121 conv4_block4_add - True\n",
            "122 conv4_block4_out - True\n",
            "123 conv4_block5_1_conv - True\n",
            "124 conv4_block5_1_bn - True\n",
            "125 conv4_block5_1_relu - True\n",
            "126 conv4_block5_2_conv - True\n",
            "127 conv4_block5_2_bn - True\n",
            "128 conv4_block5_2_relu - True\n",
            "129 conv4_block5_3_conv - True\n",
            "130 conv4_block5_3_bn - True\n",
            "131 conv4_block5_add - True\n",
            "132 conv4_block5_out - True\n",
            "133 conv4_block6_1_conv - True\n",
            "134 conv4_block6_1_bn - True\n",
            "135 conv4_block6_1_relu - True\n",
            "136 conv4_block6_2_conv - True\n",
            "137 conv4_block6_2_bn - True\n",
            "138 conv4_block6_2_relu - True\n",
            "139 conv4_block6_3_conv - True\n",
            "140 conv4_block6_3_bn - True\n",
            "141 conv4_block6_add - True\n",
            "142 conv4_block6_out - True\n",
            "143 conv5_block1_1_conv - True\n",
            "144 conv5_block1_1_bn - True\n",
            "145 conv5_block1_1_relu - True\n",
            "146 conv5_block1_2_conv - True\n",
            "147 conv5_block1_2_bn - True\n",
            "148 conv5_block1_2_relu - True\n",
            "149 conv5_block1_0_conv - True\n",
            "150 conv5_block1_3_conv - True\n",
            "151 conv5_block1_0_bn - True\n",
            "152 conv5_block1_3_bn - True\n",
            "153 conv5_block1_add - True\n",
            "154 conv5_block1_out - True\n",
            "155 conv5_block2_1_conv - True\n",
            "156 conv5_block2_1_bn - True\n",
            "157 conv5_block2_1_relu - True\n",
            "158 conv5_block2_2_conv - True\n",
            "159 conv5_block2_2_bn - True\n",
            "160 conv5_block2_2_relu - True\n",
            "161 conv5_block2_3_conv - True\n",
            "162 conv5_block2_3_bn - True\n",
            "163 conv5_block2_add - True\n",
            "164 conv5_block2_out - True\n",
            "165 conv5_block3_1_conv - True\n",
            "166 conv5_block3_1_bn - True\n",
            "167 conv5_block3_1_relu - True\n",
            "168 conv5_block3_2_conv - True\n",
            "169 conv5_block3_2_bn - True\n",
            "170 conv5_block3_2_relu - True\n",
            "171 conv5_block3_3_conv - True\n",
            "172 conv5_block3_3_bn - True\n",
            "173 conv5_block3_add - True\n",
            "174 conv5_block3_out - True\n"
          ]
        }
      ]
    },
    {
      "cell_type": "code",
      "source": [
        "#finetune resnet50\n",
        "\n",
        "model_finetuned = K.models.Sequential()\n",
        "model_finetuned.add(K.layers.Lambda(lambda x: tf.image.resize(x,(224, 224))))\n",
        "model_finetuned.add(resnet50)\n",
        "model_finetuned.add(Flatten())\n",
        "model_finetuned.add(K.layers.Dense(10, activation='softmax'))"
      ],
      "metadata": {
        "id": "cnxD-Vpgnobp"
      },
      "execution_count": null,
      "outputs": []
    },
    {
      "cell_type": "code",
      "source": [
        "model_finetuned.compile(loss='categorical_crossentropy',optimizer=tf.keras.optimizers.Adam(lr=2e-5),metrics=['accuracy'])\n",
        "history1=model_finetuned.fit(x_train,y_train_cat,epochs=3,validation_data=(x_test,y_test_cat))\n",
        "evaluation = model_finetuned.evaluate(x_test, y_test_cat)\n",
        "print('Test Accuracy: {}'.format(evaluation[1]))\n",
        "\n",
        "model_finetuned.save(\"resnet50-finetuned-cifar10.h5\")\n",
        "model_finetuned.summary()"
      ],
      "metadata": {
        "colab": {
          "base_uri": "https://localhost:8080/"
        },
        "id": "1eflLLP-nrLI",
        "outputId": "da4bb596-e80a-48be-8d64-81a1de3a14ee"
      },
      "execution_count": null,
      "outputs": [
        {
          "output_type": "stream",
          "name": "stderr",
          "text": [
            "/usr/local/lib/python3.8/dist-packages/keras/optimizers/optimizer_v2/adam.py:110: UserWarning: The `lr` argument is deprecated, use `learning_rate` instead.\n",
            "  super(Adam, self).__init__(name, **kwargs)\n"
          ]
        },
        {
          "output_type": "stream",
          "name": "stdout",
          "text": [
            "Epoch 1/3\n",
            "1563/1563 [==============================] - 576s 364ms/step - loss: 0.6544 - accuracy: 0.8052 - val_loss: 0.3672 - val_accuracy: 0.8931\n",
            "Epoch 2/3\n",
            "1563/1563 [==============================] - 575s 368ms/step - loss: 0.1129 - accuracy: 0.9624 - val_loss: 0.3290 - val_accuracy: 0.9038\n",
            "Epoch 3/3\n",
            "1563/1563 [==============================] - 567s 362ms/step - loss: 0.0410 - accuracy: 0.9861 - val_loss: 0.3425 - val_accuracy: 0.9105\n",
            "313/313 [==============================] - 33s 107ms/step - loss: 0.3425 - accuracy: 0.9105\n",
            "Test Accuracy: 0.9104999899864197\n",
            "Model: \"sequential_2\"\n",
            "_________________________________________________________________\n",
            " Layer (type)                Output Shape              Param #   \n",
            "=================================================================\n",
            " lambda_2 (Lambda)           (None, 224, 224, 3)       0         \n",
            "                                                                 \n",
            " resnet50 (Functional)       (None, 7, 7, 2048)        23587712  \n",
            "                                                                 \n",
            " flatten_1 (Flatten)         (None, 100352)            0         \n",
            "                                                                 \n",
            " dense_5 (Dense)             (None, 10)                1003530   \n",
            "                                                                 \n",
            "=================================================================\n",
            "Total params: 24,591,242\n",
            "Trainable params: 24,538,122\n",
            "Non-trainable params: 53,120\n",
            "_________________________________________________________________\n"
          ]
        }
      ]
    },
    {
      "cell_type": "markdown",
      "source": [
        "The method of ‘freezing layers’ allows a faster computation but hits the accuracy "
      ],
      "metadata": {
        "id": "ZBuIihsYrQsN"
      }
    },
    {
      "cell_type": "code",
      "source": [
        "###resnet18 and student\n",
        "\n",
        "import tensorflow.keras.models \n",
        "\n",
        "\n",
        "\n",
        "resnet_input =  Input((32,32,3))\n",
        "conv_1 = Conv2D(filters=16,kernel_size=(3,3),activation='relu',padding=\"same\")(resnet_input)\n",
        "\n",
        "\n",
        "conv_b1_1 = Conv2D(filters=32,kernel_size=(3,3),activation='relu',padding=\"same\")(conv_1)\n",
        "conv_b1_2 = Conv2D(filters=32,kernel_size=(3,3),activation='relu',padding=\"same\")(conv_b1_1)\n",
        "sum_0_2 = Concatenate()([conv_1,conv_b1_2])\n",
        "conv_b1_3 = Conv2D(filters=32,kernel_size=(3,3),activation='relu',padding=\"same\")(sum_0_2)\n",
        "conv_b1_4 = Conv2D(filters=32,kernel_size=(3,3),activation='relu',padding=\"same\")(conv_b1_3)\n",
        "\n",
        "sum_1 = Concatenate()([sum_0_2,conv_b1_4])\n",
        "avg_1 = AveragePooling2D(pool_size=(2,2))(sum_1)\n",
        "\n",
        "conv_b2_1 = Conv2D(filters=64,kernel_size=(3,3),activation='relu',padding=\"same\")(avg_1)\n",
        "conv_b2_2 = Conv2D(filters=64,kernel_size=(3,3),activation='relu',padding=\"same\")(conv_b2_1)\n",
        "sum_1_2 = Concatenate()([avg_1,conv_b2_2])\n",
        "conv_b2_3 = Conv2D(filters=64,kernel_size=(3,3),activation='relu',padding=\"same\")(sum_1_2)\n",
        "conv_b2_4 = Conv2D(filters=64,kernel_size=(3,3),activation='relu',padding=\"same\")(conv_b2_3)\n",
        "\n",
        "sum_2 = Concatenate()([sum_1_2,conv_b2_4])\n",
        "avg_2 = AveragePooling2D(pool_size=(2,2))(sum_2)\n",
        "\n",
        "conv_b3_1 = Conv2D(filters=128,kernel_size=(3,3),activation='relu',padding=\"same\")(avg_2)\n",
        "conv_b3_2 = Conv2D(filters=128,kernel_size=(3,3),activation='relu',padding=\"same\")(conv_b3_1)\n",
        "sum_2_2 = Concatenate()([avg_2,conv_b3_2])\n",
        "conv_b3_3 = Conv2D(filters=128,kernel_size=(3,3),activation='relu',padding=\"same\")(sum_2_2)\n",
        "conv_b3_4 = Conv2D(filters=128,kernel_size=(3,3),activation='relu',padding=\"same\")(conv_b3_3)\n",
        "\n",
        "sum_3 = Concatenate()([sum_2_2,conv_b3_4])\n",
        "avg_3 = AveragePooling2D(pool_size=(2,2))(sum_3)\n",
        "\n",
        "conv_b4_1 = Conv2D(filters=256,kernel_size=(3,3),activation='relu',padding=\"same\")(avg_3)\n",
        "conv_b4_2 = Conv2D(filters=256,kernel_size=(3,3),activation='relu',padding=\"same\")(conv_b4_1)\n",
        "sum_3_2 = Concatenate()([avg_3,conv_b4_2])\n",
        "conv_b4_3 = Conv2D(filters=256,kernel_size=(3,3),activation='relu',padding=\"same\")(avg_3)\n",
        "conv_b4_4 = Conv2D(filters=256,kernel_size=(3,3),activation='relu',padding=\"same\")(conv_b4_3)\n",
        "\n",
        "sum_4 = Concatenate()([sum_3_2,conv_b4_4])\n",
        "avg = AveragePooling2D(pool_size=(2,2))(sum_4)\n",
        "\n",
        "flat = Flatten()(avg)#problema <--\n",
        "\n",
        "dense1 = Dense(16,activation='relu')(flat)#avg\n",
        "dense2 = Dense(10,activation='softmax')(flat)#maxp\n",
        "\n",
        "\n",
        "flat = Flatten()(dense2)\n",
        "\n",
        "\n",
        "\n",
        "resnet_fix = tensorflow.keras.models.Model(inputs=resnet_input,outputs=dense2)"
      ],
      "metadata": {
        "id": "yVYZohjooBU9"
      },
      "execution_count": null,
      "outputs": []
    },
    {
      "cell_type": "code",
      "source": [
        "resnet_fix.compile(loss='categorical_crossentropy',optimizer=tf.keras.optimizers.Adam(lr=2e-5),metrics=['accuracy'])\n",
        "history1=resnet_fix.fit(x_train,y_train_cat,epochs=3,validation_data=(x_test,y_test_cat))\n",
        "evaluation = resnet_fix.evaluate(x_test, y_test_cat)\n",
        "print('Test Accuracy: {}'.format(evaluation[1]))\n",
        "\n",
        "resnet_fix.save(\"resnet18-cifar10.h5\")\n",
        "resnet_fix.summary()"
      ],
      "metadata": {
        "colab": {
          "base_uri": "https://localhost:8080/"
        },
        "id": "RMYcp9q8oGCo",
        "outputId": "24ff0508-c65b-4a87-833d-0ea05c143ebc"
      },
      "execution_count": null,
      "outputs": [
        {
          "output_type": "stream",
          "name": "stderr",
          "text": [
            "/usr/local/lib/python3.8/dist-packages/keras/optimizers/optimizer_v2/adam.py:110: UserWarning: The `lr` argument is deprecated, use `learning_rate` instead.\n",
            "  super(Adam, self).__init__(name, **kwargs)\n"
          ]
        },
        {
          "output_type": "stream",
          "name": "stdout",
          "text": [
            "Epoch 1/3\n",
            "1563/1563 [==============================] - 29s 18ms/step - loss: 1.7215 - accuracy: 0.4112 - val_loss: 1.4214 - val_accuracy: 0.4934\n",
            "Epoch 2/3\n",
            "1563/1563 [==============================] - 27s 17ms/step - loss: 1.3260 - accuracy: 0.5306 - val_loss: 1.2553 - val_accuracy: 0.5501\n",
            "Epoch 3/3\n",
            "1563/1563 [==============================] - 26s 17ms/step - loss: 1.1779 - accuracy: 0.5861 - val_loss: 1.1337 - val_accuracy: 0.6027\n",
            "313/313 [==============================] - 2s 6ms/step - loss: 1.1337 - accuracy: 0.6027\n",
            "Test Accuracy: 0.6026999950408936\n",
            "Model: \"model\"\n",
            "__________________________________________________________________________________________________\n",
            " Layer (type)                   Output Shape         Param #     Connected to                     \n",
            "==================================================================================================\n",
            " input_2 (InputLayer)           [(None, 32, 32, 3)]  0           []                               \n",
            "                                                                                                  \n",
            " conv2d (Conv2D)                (None, 32, 32, 16)   448         ['input_2[0][0]']                \n",
            "                                                                                                  \n",
            " conv2d_1 (Conv2D)              (None, 32, 32, 32)   4640        ['conv2d[0][0]']                 \n",
            "                                                                                                  \n",
            " conv2d_2 (Conv2D)              (None, 32, 32, 32)   9248        ['conv2d_1[0][0]']               \n",
            "                                                                                                  \n",
            " concatenate (Concatenate)      (None, 32, 32, 48)   0           ['conv2d[0][0]',                 \n",
            "                                                                  'conv2d_2[0][0]']               \n",
            "                                                                                                  \n",
            " conv2d_3 (Conv2D)              (None, 32, 32, 32)   13856       ['concatenate[0][0]']            \n",
            "                                                                                                  \n",
            " conv2d_4 (Conv2D)              (None, 32, 32, 32)   9248        ['conv2d_3[0][0]']               \n",
            "                                                                                                  \n",
            " concatenate_1 (Concatenate)    (None, 32, 32, 80)   0           ['concatenate[0][0]',            \n",
            "                                                                  'conv2d_4[0][0]']               \n",
            "                                                                                                  \n",
            " average_pooling2d (AveragePool  (None, 16, 16, 80)  0           ['concatenate_1[0][0]']          \n",
            " ing2D)                                                                                           \n",
            "                                                                                                  \n",
            " conv2d_5 (Conv2D)              (None, 16, 16, 64)   46144       ['average_pooling2d[0][0]']      \n",
            "                                                                                                  \n",
            " conv2d_6 (Conv2D)              (None, 16, 16, 64)   36928       ['conv2d_5[0][0]']               \n",
            "                                                                                                  \n",
            " concatenate_2 (Concatenate)    (None, 16, 16, 144)  0           ['average_pooling2d[0][0]',      \n",
            "                                                                  'conv2d_6[0][0]']               \n",
            "                                                                                                  \n",
            " conv2d_7 (Conv2D)              (None, 16, 16, 64)   83008       ['concatenate_2[0][0]']          \n",
            "                                                                                                  \n",
            " conv2d_8 (Conv2D)              (None, 16, 16, 64)   36928       ['conv2d_7[0][0]']               \n",
            "                                                                                                  \n",
            " concatenate_3 (Concatenate)    (None, 16, 16, 208)  0           ['concatenate_2[0][0]',          \n",
            "                                                                  'conv2d_8[0][0]']               \n",
            "                                                                                                  \n",
            " average_pooling2d_1 (AveragePo  (None, 8, 8, 208)   0           ['concatenate_3[0][0]']          \n",
            " oling2D)                                                                                         \n",
            "                                                                                                  \n",
            " conv2d_9 (Conv2D)              (None, 8, 8, 128)    239744      ['average_pooling2d_1[0][0]']    \n",
            "                                                                                                  \n",
            " conv2d_10 (Conv2D)             (None, 8, 8, 128)    147584      ['conv2d_9[0][0]']               \n",
            "                                                                                                  \n",
            " concatenate_4 (Concatenate)    (None, 8, 8, 336)    0           ['average_pooling2d_1[0][0]',    \n",
            "                                                                  'conv2d_10[0][0]']              \n",
            "                                                                                                  \n",
            " conv2d_11 (Conv2D)             (None, 8, 8, 128)    387200      ['concatenate_4[0][0]']          \n",
            "                                                                                                  \n",
            " conv2d_12 (Conv2D)             (None, 8, 8, 128)    147584      ['conv2d_11[0][0]']              \n",
            "                                                                                                  \n",
            " concatenate_5 (Concatenate)    (None, 8, 8, 464)    0           ['concatenate_4[0][0]',          \n",
            "                                                                  'conv2d_12[0][0]']              \n",
            "                                                                                                  \n",
            " average_pooling2d_2 (AveragePo  (None, 4, 4, 464)   0           ['concatenate_5[0][0]']          \n",
            " oling2D)                                                                                         \n",
            "                                                                                                  \n",
            " conv2d_13 (Conv2D)             (None, 4, 4, 256)    1069312     ['average_pooling2d_2[0][0]']    \n",
            "                                                                                                  \n",
            " conv2d_14 (Conv2D)             (None, 4, 4, 256)    590080      ['conv2d_13[0][0]']              \n",
            "                                                                                                  \n",
            " conv2d_15 (Conv2D)             (None, 4, 4, 256)    1069312     ['average_pooling2d_2[0][0]']    \n",
            "                                                                                                  \n",
            " concatenate_6 (Concatenate)    (None, 4, 4, 720)    0           ['average_pooling2d_2[0][0]',    \n",
            "                                                                  'conv2d_14[0][0]']              \n",
            "                                                                                                  \n",
            " conv2d_16 (Conv2D)             (None, 4, 4, 256)    590080      ['conv2d_15[0][0]']              \n",
            "                                                                                                  \n",
            " concatenate_7 (Concatenate)    (None, 4, 4, 976)    0           ['concatenate_6[0][0]',          \n",
            "                                                                  'conv2d_16[0][0]']              \n",
            "                                                                                                  \n",
            " average_pooling2d_3 (AveragePo  (None, 2, 2, 976)   0           ['concatenate_7[0][0]']          \n",
            " oling2D)                                                                                         \n",
            "                                                                                                  \n",
            " flatten_2 (Flatten)            (None, 3904)         0           ['average_pooling2d_3[0][0]']    \n",
            "                                                                                                  \n",
            " dense_7 (Dense)                (None, 10)           39050       ['flatten_2[0][0]']              \n",
            "                                                                                                  \n",
            "==================================================================================================\n",
            "Total params: 4,520,394\n",
            "Trainable params: 4,520,394\n",
            "Non-trainable params: 0\n",
            "__________________________________________________________________________________________________\n"
          ]
        }
      ]
    },
    {
      "cell_type": "code",
      "source": [
        "###https://keras.io/examples/vision/knowledge_distillation/\n",
        "\n",
        "\n",
        "from tensorflow import keras\n",
        "\n",
        "class Distiller(keras.Model):\n",
        "    def __init__(self, student, teacher):\n",
        "        super(Distiller, self).__init__()\n",
        "        self.teacher = teacher\n",
        "        self.student = student\n",
        "\n",
        "    def compile(\n",
        "        self,\n",
        "        optimizer,\n",
        "        metrics,\n",
        "        student_loss_fn,\n",
        "        distillation_loss_fn,\n",
        "        alpha=0.1,\n",
        "        temperature=3,\n",
        "    ):\n",
        "\n",
        "        super(Distiller, self).compile(optimizer=optimizer, metrics=metrics)\n",
        "        self.student_loss_fn = student_loss_fn\n",
        "        self.distillation_loss_fn = distillation_loss_fn\n",
        "        self.alpha = alpha\n",
        "        self.temperature = temperature\n",
        "\n",
        "    def train_step(self, data):\n",
        "        # Unpack data\n",
        "        x, y = data\n",
        "\n",
        "        # Forward pass of teacher\n",
        "        teacher_predictions = self.teacher(x, training=False)\n",
        "\n",
        "        with tf.GradientTape() as tape:\n",
        "            # Forward pass of student\n",
        "            student_predictions = self.student(x, training=True)\n",
        "\n",
        "            # Compute losses\n",
        "            student_loss = self.student_loss_fn(y, student_predictions)\n",
        "\n",
        "            distillation_loss = (\n",
        "                self.distillation_loss_fn(\n",
        "                    tf.nn.softmax(teacher_predictions / self.temperature, axis=1),\n",
        "                    tf.nn.softmax(student_predictions / self.temperature, axis=1),\n",
        "                )\n",
        "                * self.temperature**2\n",
        "            )\n",
        "\n",
        "            loss = self.alpha * student_loss + (1 - self.alpha) * distillation_loss\n",
        "\n",
        "        # Compute gradients\n",
        "        trainable_vars = self.student.trainable_variables\n",
        "        gradients = tape.gradient(loss, trainable_vars)\n",
        "\n",
        "        # Update weights\n",
        "        self.optimizer.apply_gradients(zip(gradients, trainable_vars))\n",
        "\n",
        "        # Update the metrics configured in `compile()`.\n",
        "        self.compiled_metrics.update_state(y, student_predictions)\n",
        "\n",
        "        # Return a dict of performance\n",
        "        results = {m.name: m.result() for m in self.metrics}\n",
        "        results.update(\n",
        "            {\"student_loss\": student_loss, \"distillation_loss\": distillation_loss}\n",
        "        )\n",
        "        return results\n",
        "\n",
        "    def test_step(self, data):\n",
        "        # Unpack the data\n",
        "        x, y = data\n",
        "\n",
        "        # Compute predictions\n",
        "        y_prediction = self.student(x, training=False)\n",
        "\n",
        "        # Calculate the loss\n",
        "        student_loss = self.student_loss_fn(y, y_prediction)\n",
        "\n",
        "        # Update the metrics.\n",
        "        self.compiled_metrics.update_state(y, y_prediction)\n",
        "\n",
        "        # Return a dict of performance\n",
        "        results = {m.name: m.result() for m in self.metrics}\n",
        "        results.update({\"student_loss\": student_loss})\n",
        "        return results"
      ],
      "metadata": {
        "id": "kDoyj_eFoUsT"
      },
      "execution_count": null,
      "outputs": []
    },
    {
      "cell_type": "code",
      "source": [
        "distiller = Distiller(student=resnet_fix, teacher=model)\n",
        "distiller.compile(\n",
        "    optimizer=tf.keras.optimizers.Adam(lr=2e-5),\n",
        "    metrics=[keras.metrics.SparseCategoricalAccuracy()],\n",
        "    student_loss_fn=keras.losses.SparseCategoricalCrossentropy(from_logits=True),\n",
        "    distillation_loss_fn=keras.losses.KLDivergence(),\n",
        "    alpha=0.1,\n",
        "    temperature=10,\n",
        ")\n",
        "\n",
        "# Distill teacher to student\n",
        "distiller.fit(x_train, y_train, epochs=3)\n",
        "\n",
        "# Evaluate student on test dataset\n",
        "distiller.evaluate(x_test, y_test)"
      ],
      "metadata": {
        "colab": {
          "base_uri": "https://localhost:8080/"
        },
        "id": "zVCwstPOojEX",
        "outputId": "69384bcb-1afb-4278-d4c2-c5fa9718f023"
      },
      "execution_count": null,
      "outputs": [
        {
          "output_type": "stream",
          "name": "stderr",
          "text": [
            "/usr/local/lib/python3.8/dist-packages/keras/optimizers/optimizer_v2/adam.py:110: UserWarning: The `lr` argument is deprecated, use `learning_rate` instead.\n",
            "  super(Adam, self).__init__(name, **kwargs)\n"
          ]
        },
        {
          "output_type": "stream",
          "name": "stdout",
          "text": [
            "Epoch 1/3\n"
          ]
        },
        {
          "output_type": "stream",
          "name": "stderr",
          "text": [
            "/usr/local/lib/python3.8/dist-packages/tensorflow/python/util/dispatch.py:1082: UserWarning: \"`sparse_categorical_crossentropy` received `from_logits=True`, but the `output` argument was produced by a sigmoid or softmax activation and thus does not represent logits. Was this intended?\"\n",
            "  return dispatch_target(*args, **kwargs)\n"
          ]
        },
        {
          "output_type": "stream",
          "name": "stdout",
          "text": [
            "1563/1563 [==============================] - 184s 116ms/step - sparse_categorical_accuracy: 0.6249 - student_loss: 1.0800 - distillation_loss: 0.0224\n",
            "Epoch 2/3\n",
            "1563/1563 [==============================] - 189s 121ms/step - sparse_categorical_accuracy: 0.6551 - student_loss: 0.9972 - distillation_loss: 0.0209\n",
            "Epoch 3/3\n",
            "1563/1563 [==============================] - 190s 122ms/step - sparse_categorical_accuracy: 0.6816 - student_loss: 0.9204 - distillation_loss: 0.0195\n",
            "313/313 [==============================] - 2s 6ms/step - sparse_categorical_accuracy: 0.6761 - student_loss: 0.9322\n"
          ]
        },
        {
          "output_type": "execute_result",
          "data": {
            "text/plain": [
              "[0.6761000156402588, 0.7653984427452087]"
            ]
          },
          "metadata": {},
          "execution_count": 21
        }
      ]
    },
    {
      "cell_type": "markdown",
      "source": [
        "Knowledge Distillation is a procedure for model compression, in which a small (student) model is trained to match a large pre-trained (teacher) model. Knowledge is transferred from the teacher model to the student by minimizing a loss function, aimed at matching softened teacher logits as well as ground-truth labels.\n",
        "\n",
        "The logits are softened by applying a \"temperature\" scaling function in the softmax, effectively smoothing out the probability distribution and revealing inter-class relationships learned by the teacher."
      ],
      "metadata": {
        "id": "xCmE3-EKraG_"
      }
    }
  ]
}